{
 "cells": [
  {
   "cell_type": "code",
   "execution_count": null,
   "metadata": {},
   "outputs": [],
   "source": [
    "targets = [2, 5]\n",
    "added = [1]\n",
    "output = []\n",
    "for target in targets:\n",
    "    for computed in added:\n",
    "        didChange = len(output)\n",
    "        if computed + 1 == target:\n",
    "            output.append((computed, 1))\n",
    "            added.append(computed + 1)\n",
    "        if(len(output) - didChange == 0):\n",
    "            added.append(added[len(added)-1]+1)\n",
    "            #output.append((added[len(added)-1], 1))\n",
    "print(output)"
   ]
  },
  {
   "cell_type": "code",
   "execution_count": null,
   "metadata": {},
   "outputs": [],
   "source": [
    "# modifying a list while looping over it YIKES"
   ]
  }
 ],
 "metadata": {
  "kernelspec": {
   "display_name": "Python 3",
   "language": "python",
   "name": "python3"
  },
  "language_info": {
   "codemirror_mode": {
    "name": "ipython",
    "version": 3
   },
   "file_extension": ".py",
   "mimetype": "text/x-python",
   "name": "python",
   "nbconvert_exporter": "python",
   "pygments_lexer": "ipython3",
   "version": "3.8.5"
  }
 },
 "nbformat": 4,
 "nbformat_minor": 4
}
